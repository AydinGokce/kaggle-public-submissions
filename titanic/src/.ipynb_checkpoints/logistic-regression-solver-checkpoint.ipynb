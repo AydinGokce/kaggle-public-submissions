{
 "cells": [
  {
   "cell_type": "code",
   "execution_count": null,
   "id": "8f068933",
   "metadata": {},
   "outputs": [],
   "source": [
    "from sklearn.linear_model import LogisticRegression\n",
    "from sklearn.model_selection import train_test_split\n",
    "from sklearn import preprocessing\n",
    "from sklearn.preprocessing import MinMaxScaler\n",
    "import pandas as pd\n",
    "import numpy as np"
   ]
  },
  {
   "cell_type": "code",
   "execution_count": null,
   "id": "e5e910b6",
   "metadata": {},
   "outputs": [],
   "source": [
    "def preprocess(df):\n",
    "    df = df.fillna(0)\n",
    "    df = df.drop(columns = [\"Name\", \"Ticket\", \"Cabin\", \"PassengerId\"])\n",
    "    df = pd.get_dummies(df, drop_first = False)\n",
    "    \n",
    "    try:\n",
    "        df = df.drop(columns = [\"Embarked_0\"])\n",
    "    except:\n",
    "        pass\n",
    "        \n",
    "    return df"
   ]
  },
  {
   "cell_type": "code",
   "execution_count": null,
   "id": "b7ab9d3c",
   "metadata": {},
   "outputs": [],
   "source": [
    "train_dir = \"../dev-data/train.csv\"\n",
    "test_dir = \"../dev-data/test.csv\"\n",
    "\n",
    "train_df = pd.read_csv(train_dir)\n",
    "train_df = preprocess(train_df)\n",
    "\n",
    "X_train = train_df.drop(columns = [\"Survived\"])\n",
    "y_train = train_df[\"Survived\"]"
   ]
  },
  {
   "cell_type": "code",
   "execution_count": null,
   "id": "964e03cb",
   "metadata": {},
   "outputs": [],
   "source": [
    "logreg = LogisticRegression()\n",
    "logreg.fit(X_train, y_train)\n",
    "logreg.score(X_train, y_train)"
   ]
  },
  {
   "cell_type": "code",
   "execution_count": null,
   "id": "742ae206",
   "metadata": {},
   "outputs": [],
   "source": [
    "X_test = pd.read_csv(test_dir)\n",
    "X_test = preprocess(X_test)\n",
    "\n",
    "submit = []\n",
    "\n",
    "for index, row in X_test.iterrows():\n",
    "    x = index + 892\n",
    "    y = (logreg.predict(row.to_numpy().reshape(1, -1))[0])\n",
    "    submit.append([x, y])\n",
    "\n",
    "submit = pd.DataFrame(submit, columns = [\"PassengerId\", \"Survived\"])"
   ]
  },
  {
   "cell_type": "code",
   "execution_count": null,
   "id": "a9e2d120",
   "metadata": {},
   "outputs": [],
   "source": [
    "submit.to_csv(\"../dev-daa/out.csv\", index = False)"
   ]
  }
 ],
 "metadata": {
  "kernelspec": {
   "display_name": "tensorflow2",
   "language": "python",
   "name": "tensorflow2"
  },
  "language_info": {
   "codemirror_mode": {
    "name": "ipython",
    "version": 3
   },
   "file_extension": ".py",
   "mimetype": "text/x-python",
   "name": "python",
   "nbconvert_exporter": "python",
   "pygments_lexer": "ipython3",
   "version": "3.9.6"
  }
 },
 "nbformat": 4,
 "nbformat_minor": 5
}
