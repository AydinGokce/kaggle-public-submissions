{
 "cells": [
  {
   "cell_type": "code",
   "execution_count": 1,
   "id": "eb2826eb",
   "metadata": {},
   "outputs": [],
   "source": [
    "import torch\n",
    "import torchvision\n",
    "from torch.utils.data import DataLoader, Dataset\n",
    "from torch import nn\n",
    "import cv2\n",
    "from torch.nn import functional as F\n",
    "import numpy as np\n",
    "import pandas as pd\n",
    "from matplotlib import pyplot as plt\n",
    "\n",
    "cuda = torch.device('cuda')"
   ]
  },
  {
   "cell_type": "code",
   "execution_count": 2,
   "id": "6730b332",
   "metadata": {},
   "outputs": [],
   "source": [
    "train_dir = \"../dev-data/train.csv\"\n",
    "X_train = pd.read_csv(train_dir).drop('label', axis = 1)\n",
    "y_train = pd.read_csv(train_dir)['label']\n"
   ]
  },
  {
   "cell_type": "code",
   "execution_count": 3,
   "id": "5f0d3d83",
   "metadata": {},
   "outputs": [],
   "source": [
    "def pixel_row_to_array(row):\n",
    "    return row.to_numpy().reshape(28, 28)\n",
    "\n",
    "class MNISTDataset(Dataset):\n",
    "    \n",
    "    #takes in df of images and labels\n",
    "    def __init__(self, df, labels = None, train = None, train_test_ratio = 0.1):\n",
    "        \n",
    "        self.df = df\n",
    "        self.train = train\n",
    "        self.labels = labels\n",
    "        \n",
    "        num_samples = len(self.df.index)\n",
    "        split_index = int(num_samples * train_test_ratio)\n",
    "        \n",
    "        \n",
    "        if self.train == True:\n",
    "            self.df = self.df.iloc[split_index:]\n",
    "            self.labels = self.labels.iloc[split_index:]\n",
    "            \n",
    "        elif self.train == False:\n",
    "            self.df = self.df.iloc[:split_index]\n",
    "            self.labels = self.labels.iloc[:split_index]\n",
    "        \n",
    "    def __len__(self):\n",
    "        return len(self.df.index)\n",
    "        \n",
    "    def __getitem__(self, index):\n",
    "        row = self.df.iloc[index]\n",
    "        image = pixel_row_to_array(row)\n",
    "        image = torch.from_numpy(image)\n",
    "        image = image.unsqueeze(0)\n",
    "        \n",
    "        label = 0\n",
    "        \n",
    "        if self.labels is not None:\n",
    "            label = self.labels.iloc[index]\n",
    "        \n",
    "        return image, label\n"
   ]
  },
  {
   "cell_type": "code",
   "execution_count": 4,
   "id": "110b06fa",
   "metadata": {},
   "outputs": [],
   "source": [
    "train_dataset = MNISTDataset(X_train, labels = y_train, train = True)\n",
    "train_dataloader = DataLoader(train_dataset, shuffle = True, batch_size = 4)\n",
    "\n",
    "valid_dataset = MNISTDataset(X_train, labels = y_train, train = False)\n",
    "valid_dataloader = DataLoader(valid_dataset, shuffle = True, batch_size = 4)"
   ]
  },
  {
   "cell_type": "code",
   "execution_count": 5,
   "id": "1588260e",
   "metadata": {},
   "outputs": [],
   "source": [
    "class LeNet5(nn.Module):\n",
    "    def __init__(self, num_classes = 10):\n",
    "        super().__init__()\n",
    "        \n",
    "        self.convlayers = nn.Sequential(\n",
    "            nn.Conv2d(in_channels = 1, out_channels = 6, kernel_size = 5, stride = 1),\n",
    "            nn.Tanh(),\n",
    "            nn.AvgPool2d(kernel_size = 2),\n",
    "            nn.Conv2d(in_channels = 6, out_channels = 16, kernel_size = 3, stride = 1),\n",
    "            nn.Tanh(),\n",
    "            nn.AvgPool2d(kernel_size = 2),\n",
    "            nn.Conv2d(in_channels = 16, out_channels = 120, kernel_size = 3, stride = 1),\n",
    "            nn.Tanh()\n",
    "        )\n",
    "        \n",
    "        self.linearlayers = nn.Sequential(\n",
    "            nn.Linear(in_features = 1080, out_features = 84),\n",
    "            nn.Tanh(),\n",
    "            nn.Linear(in_features = 84, out_features = num_classes)\n",
    "        )\n",
    "        \n",
    "    def forward(self, x):\n",
    "        x = self.convlayers(x)\n",
    "        x = torch.flatten(x, 1)\n",
    "        logits = self.linearlayers(x)\n",
    "        probs = F.softmax(logits, dim = 1)\n",
    "        return logits, probs"
   ]
  },
  {
   "cell_type": "code",
   "execution_count": 6,
   "id": "a9f4f0d1",
   "metadata": {},
   "outputs": [],
   "source": [
    "def train(model, train_loader, optimizer, criterion, device):\n",
    "    \n",
    "    running_loss = 0.0\n",
    "    model.train()\n",
    "    \n",
    "    for X, y in train_loader:\n",
    "        \n",
    "        optimizer.zero_grad()\n",
    "        \n",
    "        X = X.to(device)\n",
    "        y = y.to(device)\n",
    "        \n",
    "        outputs, _ = model(X.float())\n",
    "        loss = criterion(outputs, y)\n",
    "        loss_item = loss.item()\n",
    "        \n",
    "        running_loss += loss_item * X.shape[0]\n",
    "        \n",
    "        loss.backward()\n",
    "        optimizer.step()\n",
    "        \n",
    "    epoch_loss = running_loss / len(train_loader.dataset)\n",
    "    return model, optimizer, epoch_loss\n",
    "        \n",
    "        \n",
    "def validate(model, valid_loader, criterion, device):\n",
    "    \n",
    "    running_loss = 0.0\n",
    "    model.eval()\n",
    "    \n",
    "    for X, y in valid_loader:\n",
    "        \n",
    "        X = X.to(device)\n",
    "        y = y.to(device)\n",
    "        \n",
    "        outputs, _ = model(X.float())\n",
    "        loss = criterion(outputs, y)\n",
    "        running_loss += loss.item() * X.shape[0]\n",
    "        \n",
    "        \n",
    "    epoch_loss = running_loss / len(valid_loader.dataset)\n",
    "    return model, epoch_loss"
   ]
  },
  {
   "cell_type": "code",
   "execution_count": 7,
   "id": "4579f168",
   "metadata": {},
   "outputs": [],
   "source": [
    "def training_loop(model, optimizer, criterion, num_epochs, device, train_loader, valid_loader, print_every = 1):\n",
    "    \n",
    "    train_losses = []\n",
    "    valid_losses = []\n",
    "    \n",
    "    for epoch in range(num_epochs):\n",
    "        \n",
    "        \n",
    "        model, optimizer, train_loss = train(model,\n",
    "                                            train_loader,\n",
    "                                            optimizer, \n",
    "                                            criterion,\n",
    "                                            device)\n",
    "        \n",
    "        model, valid_loss = validate(model,\n",
    "                                valid_loader,\n",
    "                                criterion,\n",
    "                                device)\n",
    "        \n",
    "        print(\"completed epoch \" + str(epoch))\n",
    "    \n",
    "        train_losses.append(train_loss)\n",
    "        valid_losses.append(valid_loss)\n",
    "        \n",
    "    return model, optimizer, train_losses, valid_losses\n",
    "    "
   ]
  },
  {
   "cell_type": "code",
   "execution_count": 8,
   "id": "1083dd46",
   "metadata": {},
   "outputs": [
    {
     "name": "stdout",
     "output_type": "stream",
     "text": [
      "completed epoch 0\n",
      "completed epoch 1\n",
      "completed epoch 2\n",
      "completed epoch 3\n",
      "completed epoch 4\n",
      "completed epoch 5\n",
      "completed epoch 6\n",
      "completed epoch 7\n",
      "completed epoch 8\n",
      "completed epoch 9\n"
     ]
    }
   ],
   "source": [
    "DEVICE = torch.device('cuda') if torch.cuda.is_available() else 'cpu'\n",
    "LEARNING_RATE = 0.001\n",
    "NUM_EPOCHS = 10\n",
    "model = LeNet5().to(DEVICE)\n",
    "optimizer = torch.optim.Adam(model.parameters(), lr = LEARNING_RATE)\n",
    "criterion = nn.CrossEntropyLoss()\n",
    "\n",
    "model, optimizer, train_losses, valid_losses = training_loop(model,\n",
    "                                                             optimizer,\n",
    "                                                             criterion,\n",
    "                                                             NUM_EPOCHS,\n",
    "                                                             DEVICE,\n",
    "                                                             train_dataloader,\n",
    "                                                             valid_dataloader)"
   ]
  },
  {
   "cell_type": "code",
   "execution_count": 9,
   "id": "3fd78879",
   "metadata": {},
   "outputs": [
    {
     "data": {
      "image/png": "[encoded data removed]",
      "text/plain": [
       "<Figure size 432x288 with 1 Axes>"
      ]
     },
     "metadata": {
      "needs_background": "light"
     },
     "output_type": "display_data"
    }
   ],
   "source": [
    "plt.plot(train_losses, label = 'train')\n",
    "plt.plot(valid_losses, label = 'validation')\n",
    "plt.show()"
   ]
  },
  {
   "cell_type": "code",
   "execution_count": 12,
   "id": "23f68192",
   "metadata": {},
   "outputs": [],
   "source": [
    "def get_accuracy(model, test_loader, device):\n",
    "    \n",
    "    correct_preds = 0 \n",
    "    total_preds = 0\n",
    "    \n",
    "    with torch.no_grad():\n",
    "        model.eval()\n",
    "        \n",
    "        for X, y_true in test_loader:\n",
    "\n",
    "            X = X.to(device)\n",
    "            y_true = y_true.to(device)\n",
    "\n",
    "            _, y_prob = model(X.float())\n",
    "            _, labels = torch.max(y_prob, 1)\n",
    "\n",
    "            total_preds += y_true.size(0)\n",
    "            correct_preds += (labels == y_true).sum()\n",
    "\n",
    "    return correct_preds.float() / total_preds"
   ]
  },
  {
   "cell_type": "code",
   "execution_count": 13,
   "id": "477b5838",
   "metadata": {},
   "outputs": [
    {
     "name": "stdout",
     "output_type": "stream",
     "text": [
      "accuracy: 97%\n"
     ]
    }
   ],
   "source": [
    "print(str(\"accuracy: \" + str(get_accuracy(model, valid_dataloader, DEVICE).item() * 100)[:2] + \"%\"))"
   ]
  },
  {
   "cell_type": "code",
   "execution_count": 14,
   "id": "83c21a66",
   "metadata": {},
   "outputs": [],
   "source": [
    "def complete_preds(model, test_dataloader, device):\n",
    "    \n",
    "    df = pd.DataFrame(columns = [\"ImageId\", \"Label\"])\n",
    "    \n",
    "    ImageId = 1\n",
    "    \n",
    "    with torch.no_grad():\n",
    "        model.eval()\n",
    "        for X, _ in test_dataloader:\n",
    "            \n",
    "            X = X.to(device)\n",
    "            _, probs = model(X.float())\n",
    "            _, predicted_labels = torch.max(probs, 1)\n",
    "            \n",
    "            for label in predicted_labels:\n",
    "                label = label.item()\n",
    "                \n",
    "                #append prediction and imageid to dataframe\n",
    "                df = df.append({\"ImageId\" : ImageId, \"Label\" : label}, ignore_index = True)\n",
    "                \n",
    "                ImageId += 1\n",
    "                \n",
    "    return df"
   ]
  },
  {
   "cell_type": "code",
   "execution_count": 15,
   "id": "50320f48",
   "metadata": {},
   "outputs": [],
   "source": [
    "test_csv = pd.read_csv('../dev-data/test.csv')\n",
    "test_dataset = MNISTDataset(test_csv, labels = None)\n",
    "test_dataloader = DataLoader(test_dataset, batch_size = 4)"
   ]
  },
  {
   "cell_type": "code",
   "execution_count": 16,
   "id": "f5b49d14",
   "metadata": {},
   "outputs": [],
   "source": [
    "predictions = complete_preds(model, test_dataloader, DEVICE)\n",
    "predictions.to_csv(\"../dev-data/predictions.csv\", index = False)"
   ]
  }
 ],
 "metadata": {
  "kernelspec": {
   "display_name": "pytorch",
   "language": "python",
   "name": "pytorch"
  },
  "language_info": {
   "codemirror_mode": {
    "name": "ipython",
    "version": 3
   },
   "file_extension": ".py",
   "mimetype": "text/x-python",
   "name": "python",
   "nbconvert_exporter": "python",
   "pygments_lexer": "ipython3",
   "version": "3.9.6"
  }
 },
 "nbformat": 4,
 "nbformat_minor": 5
}
